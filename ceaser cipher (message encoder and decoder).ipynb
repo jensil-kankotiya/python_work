{
 "cells": [
  {
   "cell_type": "code",
   "execution_count": 1,
   "id": "3facc781",
   "metadata": {},
   "outputs": [],
   "source": [
    "alphabet = ['a', 'b', 'c', 'd', 'e', 'f', 'g', 'h', 'i', 'j', 'k', 'l', 'm', 'n', 'o', 'p', 'q', 'r', 's', 't', 'u', 'v', 'w', 'x', 'y', 'z', 'a', 'b', 'c', 'd', 'e', 'f', 'g', 'h', 'i', 'j', 'k', 'l', 'm', 'n', 'o', 'p', 'q', 'r', 's', 't', 'u', 'v', 'w', 'x', 'y', 'z']"
   ]
  },
  {
   "cell_type": "code",
   "execution_count": 5,
   "id": "155e3d25",
   "metadata": {},
   "outputs": [
    {
     "name": "stdout",
     "output_type": "stream",
     "text": [
      "do you want to encode or decode the message?:\n",
      "encode\n",
      "write your message: \n",
      "hello\n",
      "what will be shift amount?0\n",
      "hello\n"
     ]
    }
   ],
   "source": [
    "direction = input('do you want to encode or decode the message?:\\n').lower()\n",
    "text = input('write your message: \\n').lower()\n",
    "shift = int(input('what will be shift amount?'))\n",
    "shift = shift % 26\n",
    "\n",
    "def ceaser(plain_text, shift_amount, cipher_direction):\n",
    "    ceaser_text = \"\"\n",
    "    if cipher_direction == 'decode':\n",
    "        shift_amount *= -1\n",
    "    \n",
    "    for char in plain_text: \n",
    "        if char in alphabet:\n",
    "            position = alphabet.index(char)\n",
    "            new_position = position + shift_amount\n",
    "            plain_text = alphabet[new_position]\n",
    "            ceaser_text += plain_text\n",
    "               \n",
    "        else:\n",
    "            ceaser_text += char\n",
    "                 \n",
    "        \n",
    "        \n",
    "            \n",
    "            \n",
    "    print(ceaser_text)    \n",
    "    \n",
    "ceaser(plain_text = text, cipher_direction = direction, shift_amount = shift)\n",
    "\n",
    "\n",
    "        \n",
    "\n",
    "\n",
    "    "
   ]
  },
  {
   "cell_type": "code",
   "execution_count": null,
   "id": "a846ff8d",
   "metadata": {},
   "outputs": [],
   "source": []
  },
  {
   "cell_type": "code",
   "execution_count": null,
   "id": "fd359c61",
   "metadata": {},
   "outputs": [],
   "source": []
  },
  {
   "cell_type": "code",
   "execution_count": null,
   "id": "5ffcacd5",
   "metadata": {},
   "outputs": [],
   "source": []
  }
 ],
 "metadata": {
  "kernelspec": {
   "display_name": "Python 3 (ipykernel)",
   "language": "python",
   "name": "python3"
  },
  "language_info": {
   "codemirror_mode": {
    "name": "ipython",
    "version": 3
   },
   "file_extension": ".py",
   "mimetype": "text/x-python",
   "name": "python",
   "nbconvert_exporter": "python",
   "pygments_lexer": "ipython3",
   "version": "3.11.7"
  }
 },
 "nbformat": 4,
 "nbformat_minor": 5
}
