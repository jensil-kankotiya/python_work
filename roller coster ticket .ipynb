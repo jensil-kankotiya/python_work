{
 "cells": [
  {
   "cell_type": "markdown",
   "id": "92a300e1",
   "metadata": {},
   "source": [
    "Create a roller coster ticket bill generator."
   ]
  },
  {
   "cell_type": "markdown",
   "id": "b1a14c58",
   "metadata": {},
   "source": [
    "i am using if statement for that"
   ]
  },
  {
   "cell_type": "code",
   "execution_count": 6,
   "id": "e839971b",
   "metadata": {},
   "outputs": [],
   "source": [
    "bill = 0\n"
   ]
  },
  {
   "cell_type": "code",
   "execution_count": null,
   "id": "7caa6f8a",
   "metadata": {},
   "outputs": [],
   "source": [
    "height = int(input('please tell me what is the height of yours? : '))\n",
    "if height < 180:\n",
    "    print(\"Sorry, but you not eligible for this ride.\")\n",
    "else:\n",
    "    print (\" Let's have fun.\")\n",
    "\n",
    "age = int(input('whats your age: '))    \n",
    "if age <= 5:\n",
    "    bill += 5\n",
    "elif age <= 12:\n",
    "    bill += 7\n",
    "elif age >=13:\n",
    "    bill += 10\n",
    "        \n",
    "memory_photo = input(\" Do you like to have picture of your fun memory? Y or N : \")\n",
    "\n",
    "if memory_photo == 'Y':\n",
    "    bill += 3 \n",
    "    print(f\"your total bill is ${bill}.\")\n",
    "else:\n",
    "    print(f\"your total bill is ${bill}.\")\n",
    "\n",
    "\n"
   ]
  },
  {
   "cell_type": "code",
   "execution_count": null,
   "id": "4c8efb91",
   "metadata": {},
   "outputs": [],
   "source": []
  },
  {
   "cell_type": "code",
   "execution_count": null,
   "id": "9926ef2f",
   "metadata": {},
   "outputs": [],
   "source": []
  },
  {
   "cell_type": "code",
   "execution_count": null,
   "id": "cc8a95f6",
   "metadata": {},
   "outputs": [],
   "source": []
  }
 ],
 "metadata": {
  "kernelspec": {
   "display_name": "Python 3 (ipykernel)",
   "language": "python",
   "name": "python3"
  },
  "language_info": {
   "codemirror_mode": {
    "name": "ipython",
    "version": 3
   },
   "file_extension": ".py",
   "mimetype": "text/x-python",
   "name": "python",
   "nbconvert_exporter": "python",
   "pygments_lexer": "ipython3",
   "version": "3.11.7"
  }
 },
 "nbformat": 4,
 "nbformat_minor": 5
}
