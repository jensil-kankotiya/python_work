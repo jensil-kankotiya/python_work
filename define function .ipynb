{
 "cells": [
  {
   "cell_type": "code",
   "execution_count": 7,
   "id": "5de06d0a",
   "metadata": {},
   "outputs": [
    {
     "name": "stdout",
     "output_type": "stream",
     "text": [
      "hello jensil\n",
      "is't weather nice today at Bangalore?\n"
     ]
    }
   ],
   "source": [
    "def greet(name, location):\n",
    "    print(f'hello {name}')\n",
    "    print(f'is\\'t weather nice today at {location}?')\n",
    "    \n",
    "greet('jensil','Bangalore')"
   ]
  },
  {
   "cell_type": "code",
   "execution_count": 12,
   "id": "6aa6e94e",
   "metadata": {},
   "outputs": [
    {
     "name": "stdout",
     "output_type": "stream",
     "text": [
      "hello rishav\n",
      "is't weather nice today at Bangalore?\n"
     ]
    }
   ],
   "source": [
    "greet(location = 'Bangalore', name = 'rishav')"
   ]
  },
  {
   "cell_type": "markdown",
   "id": "24df8ea4",
   "metadata": {},
   "source": [
    "PAINT CANS CALCULATION"
   ]
  },
  {
   "cell_type": "code",
   "execution_count": 15,
   "id": "18b1076c",
   "metadata": {},
   "outputs": [],
   "source": [
    "def paint_cal(height, width, coverage_per_can):\n",
    "    total_cans = (height * width)/ coverage_per_can\n",
    "    print(f'You need total amount of {total_cans} cans.')"
   ]
  },
  {
   "cell_type": "code",
   "execution_count": 16,
   "id": "2bb41f08",
   "metadata": {},
   "outputs": [
    {
     "name": "stdout",
     "output_type": "stream",
     "text": [
      "You need total amount of 147.2 cans.\n"
     ]
    }
   ],
   "source": [
    "paint_cal(height = 32, width = 23, coverage_per_can = 5)"
   ]
  },
  {
   "cell_type": "markdown",
   "id": "71c7fa35",
   "metadata": {},
   "source": [
    "PRIME NUMBER:"
   ]
  },
  {
   "cell_type": "code",
   "execution_count": 38,
   "id": "702ac10c",
   "metadata": {},
   "outputs": [],
   "source": [
    "def prime_num(num):\n",
    "    prime_num = True\n",
    "    for i in range(2, num):\n",
    "        if num % i == 0:\n",
    "            prime_num = False\n",
    "            \n",
    "    if prime_num is False:\n",
    "        print('Not a prime number.')\n",
    "    else:\n",
    "        print('It\\'s a prime number.')\n",
    "        \n",
    "        \n",
    "\n",
    "        "
   ]
  },
  {
   "cell_type": "code",
   "execution_count": 42,
   "id": "acb399ac",
   "metadata": {},
   "outputs": [
    {
     "name": "stdout",
     "output_type": "stream",
     "text": [
      "It's a prime number.\n"
     ]
    }
   ],
   "source": [
    "prime_num(23)"
   ]
  },
  {
   "cell_type": "code",
   "execution_count": null,
   "id": "55dafa05",
   "metadata": {},
   "outputs": [],
   "source": []
  }
 ],
 "metadata": {
  "kernelspec": {
   "display_name": "Python 3 (ipykernel)",
   "language": "python",
   "name": "python3"
  },
  "language_info": {
   "codemirror_mode": {
    "name": "ipython",
    "version": 3
   },
   "file_extension": ".py",
   "mimetype": "text/x-python",
   "name": "python",
   "nbconvert_exporter": "python",
   "pygments_lexer": "ipython3",
   "version": "3.11.7"
  }
 },
 "nbformat": 4,
 "nbformat_minor": 5
}
