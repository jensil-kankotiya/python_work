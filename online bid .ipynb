{
 "cells": [
  {
   "cell_type": "code",
   "execution_count": 2,
   "id": "a4cbddac",
   "metadata": {},
   "outputs": [
    {
     "name": "stdout",
     "output_type": "stream",
     "text": [
      "enter your name: jensil\n",
      "enter the bid amount: $234\n",
      "is there any another who wants to bid? 'y' or 'n': y\n",
      "enter your name: sahil\n",
      "enter the bid amount: $345\n",
      "is there any another who wants to bid? 'y' or 'n': n\n"
     ]
    },
    {
     "ename": "TypeError",
     "evalue": "'int' object is not iterable",
     "output_type": "error",
     "traceback": [
      "\u001b[1;31m---------------------------------------------------------------------------\u001b[0m",
      "\u001b[1;31mTypeError\u001b[0m                                 Traceback (most recent call last)",
      "Cell \u001b[1;32mIn[2], line 28\u001b[0m\n\u001b[0;32m     26\u001b[0m \u001b[38;5;28;01melif\u001b[39;00m choice \u001b[38;5;241m==\u001b[39m \u001b[38;5;124m'\u001b[39m\u001b[38;5;124mn\u001b[39m\u001b[38;5;124m'\u001b[39m:\n\u001b[0;32m     27\u001b[0m     end_of_bid \u001b[38;5;241m=\u001b[39m \u001b[38;5;28;01mTrue\u001b[39;00m\n\u001b[1;32m---> 28\u001b[0m     find_higest_bidder(bid)\n",
      "Cell \u001b[1;32mIn[2], line 11\u001b[0m, in \u001b[0;36mfind_higest_bidder\u001b[1;34m(bid_result)\u001b[0m\n\u001b[0;32m      9\u001b[0m highest_bid \u001b[38;5;241m=\u001b[39m \u001b[38;5;241m0\u001b[39m\n\u001b[0;32m     10\u001b[0m winner \u001b[38;5;241m=\u001b[39m \u001b[38;5;124m'\u001b[39m\u001b[38;5;124m'\u001b[39m\n\u001b[1;32m---> 11\u001b[0m \u001b[38;5;28;01mfor\u001b[39;00m bidders \u001b[38;5;129;01min\u001b[39;00m bid_result:\n\u001b[0;32m     12\u001b[0m     bid_amount \u001b[38;5;241m=\u001b[39m bid_result[bidders]\n\u001b[0;32m     13\u001b[0m     \u001b[38;5;28;01mif\u001b[39;00m bid_amount \u001b[38;5;241m>\u001b[39m highest_bid:\n",
      "\u001b[1;31mTypeError\u001b[0m: 'int' object is not iterable"
     ]
    }
   ],
   "source": [
    "name = input('enter your name: ')\n",
    "bid = int(input('enter the bid amount: $'))\n",
    "choice = input(\"is there any another who wants to bid? 'y' or 'n': \"  )\n",
    "\n",
    "bidder = {}\n",
    "end_of_bid = False\n",
    "\n",
    "def find_higest_bidder(bid_result):\n",
    "    highest_bid = 0\n",
    "    winner = ''\n",
    "    for bidders in bid_result:\n",
    "        bid_amount = bid_result[bidders]\n",
    "        if bid_amount > highest_bid:\n",
    "            highest_bid = bid_amount\n",
    "            winner = bidders\n",
    "    \n",
    "    print(f'the winner is {winner} with the bid amount of {highest_bid}')\n",
    "       \n",
    "\n",
    "while not end_of_bid:\n",
    "    bidder[name] = bid\n",
    "    if choice == 'y':\n",
    "        name = input('enter your name: ')\n",
    "        bid = int(input('enter the bid amount: $'))\n",
    "        choice = input(\"is there any another who wants to bid? 'y' or 'n': \" )\n",
    "    elif choice == 'n':\n",
    "        end_of_bid = True\n",
    "        find_higest_bidder(bid)\n",
    "        "
   ]
  },
  {
   "cell_type": "code",
   "execution_count": null,
   "id": "00059dd7",
   "metadata": {},
   "outputs": [],
   "source": []
  }
 ],
 "metadata": {
  "kernelspec": {
   "display_name": "Python 3 (ipykernel)",
   "language": "python",
   "name": "python3"
  },
  "language_info": {
   "codemirror_mode": {
    "name": "ipython",
    "version": 3
   },
   "file_extension": ".py",
   "mimetype": "text/x-python",
   "name": "python",
   "nbconvert_exporter": "python",
   "pygments_lexer": "ipython3",
   "version": "3.11.7"
  }
 },
 "nbformat": 4,
 "nbformat_minor": 5
}
