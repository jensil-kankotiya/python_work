{
 "cells": [
  {
   "cell_type": "code",
   "execution_count": 161,
   "id": "98c502f2",
   "metadata": {},
   "outputs": [],
   "source": [
    "import random"
   ]
  },
  {
   "cell_type": "code",
   "execution_count": 162,
   "id": "8424b04e",
   "metadata": {},
   "outputs": [],
   "source": [
    "name_list = ['apple', 'pinapple', 'banana', 'pinch', 'sugar cane']"
   ]
  },
  {
   "cell_type": "code",
   "execution_count": 163,
   "id": "54caf4b2",
   "metadata": {},
   "outputs": [
    {
     "name": "stdout",
     "output_type": "stream",
     "text": [
      "['pinapple']\n"
     ]
    }
   ],
   "source": [
    "chosen_word = random.choices(name_list)\n",
    "print(chosen_word)"
   ]
  },
  {
   "cell_type": "code",
   "execution_count": 164,
   "id": "b443fc3a",
   "metadata": {},
   "outputs": [],
   "source": [
    "underscore = []\n",
    "word_lenth = range(len(chosen_word))"
   ]
  },
  {
   "cell_type": "code",
   "execution_count": 165,
   "id": "e5c58fe6",
   "metadata": {},
   "outputs": [
    {
     "name": "stdout",
     "output_type": "stream",
     "text": [
      "Please enter the letter: p\n"
     ]
    }
   ],
   "source": [
    "for i in word_lenth:\n",
    "    underscore += '_'\n",
    "\n",
    "guess = input('Please enter the letter: ').lower"
   ]
  },
  {
   "cell_type": "code",
   "execution_count": 166,
   "id": "dbfdfb19",
   "metadata": {},
   "outputs": [
    {
     "name": "stdout",
     "output_type": "stream",
     "text": [
      "['_']\n"
     ]
    }
   ],
   "source": [
    "for position in word_lenth:\n",
    "    letter = word_lenth[position]\n",
    "    if letter == chosen_letter:\n",
    "        underscore[position] = letter\n",
    "        \n",
    "   \n",
    "    \n",
    "print(underscore)"
   ]
  },
  {
   "cell_type": "code",
   "execution_count": null,
   "id": "b9157b39",
   "metadata": {},
   "outputs": [],
   "source": []
  },
  {
   "cell_type": "code",
   "execution_count": null,
   "id": "f034c44e",
   "metadata": {},
   "outputs": [],
   "source": []
  }
 ],
 "metadata": {
  "kernelspec": {
   "display_name": "Python 3 (ipykernel)",
   "language": "python",
   "name": "python3"
  },
  "language_info": {
   "codemirror_mode": {
    "name": "ipython",
    "version": 3
   },
   "file_extension": ".py",
   "mimetype": "text/x-python",
   "name": "python",
   "nbconvert_exporter": "python",
   "pygments_lexer": "ipython3",
   "version": "3.11.7"
  }
 },
 "nbformat": 4,
 "nbformat_minor": 5
}
