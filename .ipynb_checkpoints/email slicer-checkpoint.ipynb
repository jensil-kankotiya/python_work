{
 "cells": [
  {
   "cell_type": "code",
   "execution_count": 9,
   "id": "ece3784a",
   "metadata": {},
   "outputs": [
    {
     "name": "stdout",
     "output_type": "stream",
     "text": [
      "Enter your email please: nitisha.hp123@gmail.com\n",
      "your username is: nitisha.hp123 and your domain name: gmail.com\n"
     ]
    }
   ],
   "source": [
    "email = input('Enter your email please: ')\n",
    "\n",
    "username = email [: email.index('@')]\n",
    "domain = email [email.index('@') + 1: ]\n",
    "\n",
    "print(f'your username is: {username} and your domain name: {domain}')"
   ]
  },
  {
   "cell_type": "code",
   "execution_count": null,
   "id": "62dde6d6",
   "metadata": {},
   "outputs": [],
   "source": []
  }
 ],
 "metadata": {
  "kernelspec": {
   "display_name": "Python 3 (ipykernel)",
   "language": "python",
   "name": "python3"
  },
  "language_info": {
   "codemirror_mode": {
    "name": "ipython",
    "version": 3
   },
   "file_extension": ".py",
   "mimetype": "text/x-python",
   "name": "python",
   "nbconvert_exporter": "python",
   "pygments_lexer": "ipython3",
   "version": "3.11.7"
  }
 },
 "nbformat": 4,
 "nbformat_minor": 5
}
