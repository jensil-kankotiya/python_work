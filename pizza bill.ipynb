{
 "cells": [
  {
   "cell_type": "code",
   "execution_count": null,
   "id": "e44b28f5",
   "metadata": {},
   "outputs": [],
   "source": [
    "bill = 0 "
   ]
  },
  {
   "cell_type": "code",
   "execution_count": 1,
   "id": "7e353a85",
   "metadata": {
    "scrolled": true
   },
   "outputs": [
    {
     "name": "stdout",
     "output_type": "stream",
     "text": [
      "What would you like? Small, Medium, or Large? (S, M, or L)S\n",
      "Would you like to add pepperoni in your pizza? Y or N: Y\n",
      "Would you like to add extra cheese on your pizza? Y or N: Y\n",
      "Thank you for your order from python cheezy pizza.\n",
      "your total bill is $18\n"
     ]
    }
   ],
   "source": [
    "size = input(\"What would you like? Small, Medium, or Large? (S, M, or L)\")\n",
    "if size == 'S':\n",
    "    bill = 15\n",
    "if size == 'M':\n",
    "    bill = 20\n",
    "if size == 'L':\n",
    "    bill = 25\n",
    "    \n",
    "add_pepperoni = input(\"Would you like to add pepperoni in your pizza? Y or N: \")\n",
    "if size == 'S' and add_pepperoni == 'Y':\n",
    "    bill += 2\n",
    "elif size == 'M' or 'L' and add_pepperoni == 'Y':\n",
    "    bill += 3\n",
    "else:\n",
    "    bill \n",
    "    \n",
    "add_extra_cheese = input(\"Would you like to add extra cheese on your pizza? Y or N: \")\n",
    "if add_extra_cheese == 'Y':\n",
    "    bill += 1\n",
    "    \n",
    "print(\"Thank you for your order from python cheezy pizza.\")\n",
    "print(f\"your total bill is ${bill}\")\n"
   ]
  },
  {
   "cell_type": "code",
   "execution_count": null,
   "id": "ff7078b0",
   "metadata": {},
   "outputs": [],
   "source": []
  },
  {
   "cell_type": "code",
   "execution_count": null,
   "id": "78b4e80e",
   "metadata": {},
   "outputs": [],
   "source": []
  },
  {
   "cell_type": "code",
   "execution_count": null,
   "id": "ee4dea61",
   "metadata": {},
   "outputs": [],
   "source": []
  }
 ],
 "metadata": {
  "kernelspec": {
   "display_name": "Python 3 (ipykernel)",
   "language": "python",
   "name": "python3"
  },
  "language_info": {
   "codemirror_mode": {
    "name": "ipython",
    "version": 3
   },
   "file_extension": ".py",
   "mimetype": "text/x-python",
   "name": "python",
   "nbconvert_exporter": "python",
   "pygments_lexer": "ipython3",
   "version": "3.11.7"
  }
 },
 "nbformat": 4,
 "nbformat_minor": 5
}
